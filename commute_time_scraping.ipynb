{
 "cells": [
  {
   "cell_type": "markdown",
   "metadata": {},
   "source": [
    "# Interactive Commute Time Notebook\n",
    "### Author: Kenny Mai\n",
    "### Original Author: Jim Maguire\n",
    "### Last Modified: 7/19/23\n",
    "### Required Files: chromedriver, scholar_list.sql, prod_scholar_commute_times.csv\n",
    "This notebook will walk through multiple iterations of commute times with human supervision. Every loop, the commute times that are found will be added to the master list and removed from the list to be scraped. "
   ]
  },
  {
   "cell_type": "markdown",
   "metadata": {},
   "source": [
    "### Packages, dictionaries, and initializing the web scraper"
   ]
  },
  {
   "cell_type": "code",
   "execution_count": null,
   "metadata": {},
   "outputs": [],
   "source": [
    "# Import relevant packages\n",
    "import csv\n",
    "import pandas as pd\n",
    "import numpy as np\n",
    "import datetime\n",
    "import time\n",
    "from aws_helper_functions import aws_helper_functions\n",
    "from selenium import webdriver\n",
    "from selenium.webdriver.chrome.options import Options\n",
    "from selenium.webdriver.chrome.service import Service\n",
    "from selenium.webdriver.common.keys import Keys\n",
    "from selenium.webdriver.common.by import By\n",
    "from datetime import datetime\n",
    "from datetime import date\n",
    "from time import sleep"
   ]
  },
  {
   "cell_type": "code",
   "execution_count": null,
   "metadata": {},
   "outputs": [],
   "source": [
    "# Define school names\n",
    "schools = {\n",
    "    'SA-BS': '211 Throop Avenue, Floor 3, Brooklyn, NY 11206',\n",
    "    'SA-BS1': '70 Tompkins Ave, Brooklyn, NY 11206',\n",
    "    'SA-BS2': '211 Throop Avenue, Floor 3, Brooklyn, NY 11206',\n",
    "    'SA-BSMS': '70 Tompkins Avenue, Floor 2, Brooklyn, NY 11206',\n",
    "    'SA-BH': '99 Avenue P, Floor 4, Brooklyn, NY 11204',\n",
    "    'SA-BB':'1420 East 68th Street, Floor 3, Brooklyn, NY 11234',\n",
    "    'SA-BX1': '339 Morris Avenue, Floor 2, Bronx, NY 10451',\n",
    "    'SA-BX1MS': '339 Morris Avenue, Floor 2, Bronx, NY 10451',\n",
    "    'SA-BX2': '450 St. Pauls Place, Floor 5, Bronx, NY 10456',\n",
    "    'SA-BX2MS': '270 East 167 Street, Floor 2, Bronx, NY 10456',\n",
    "    'SA-BX3': '1000 Teller Avenue, Floor 4, Bronx, NY 10456',\n",
    "    'SA-BX4': '885 Bolton Avenue, Floor 3, Bronx, NY 10473',\n",
    "    'SA-BX5': '604 East 139th Street, Bronx, NY 10454',\n",
    "    'SA-BXMS': '965 Longwood Avenue, Floor 2, Bronx, NY 10459',\n",
    "    'SA-BW': '139 Menahan Street, Brooklyn, NY 11221',\n",
    "    'SA-CH': '284 Baltic Street, Lower Level, Brooklyn, NY 11201',\n",
    "    'SA-CR': '330 Crown Street, Floor 5, Brooklyn, NY 11225',\n",
    "    'SA-DPMS': '72 Veronica Place, Floor 3, Brooklyn, NY 11226',\n",
    "    'SA-EFMS': '3109 Newkirk Avenue, Brooklyn, NY, 11226',\n",
    "    'SA-FR': '10-45 Nameoke St, Floor 3, Queens, NY 11691',\n",
    "    'SA-FRMS': '10-45 Nameoke St, Queens, NY 11691',\n",
    "    'SA-FB': '15 Snyder Avenue, Brooklyn, NY 11226',\n",
    "    'SA-HHMS': '461 West 131st Street, New York, NY 10027',\n",
    "    'SA-H1': '34 West 118th Street, Floor 2, New York, NY 10026',\n",
    "    'SA-H2': '144 East 128th Street, Floor 3, New York, NY 10035',\n",
    "    'SA-H3': '410 East 100th Street, Floor 4, New York, NY 10029',\n",
    "    'SA-H4': '240 West 113th Street, Floor 3, New York, NY 10026',\n",
    "    'SA-H5': '301 West 140th Street, Floor 3, New York, NY 10030',\n",
    "    'SA-H6': '461 West 131st Street, New York, NY 10027',\n",
    "    'SA-HE': '141 East 111th Street, Floor 3, New York, NY 10029',\n",
    "    'SA-HNC': '175 West 134th Street, Floor 3, New York, NY 10030',\n",
    "    'SA-HW': '215 West 114th Street, Floor 5, New York, NY 10026',\n",
    "    'SA-HK': '439 West 49th Street, Floor 2, New York NY 10019',\n",
    "    'SA-HSLA-HA': '509 West 129th Street, Floor 3,New York, NY 10027',\n",
    "    'SA-HSLA-MA': '111 East 33rd Street, 4th Floor, New York, NY 10016',\n",
    "    'SA-HSLA-BK': '70 Tompkins Avenue, 2nd Fl., Brooklyn, NY 11206',\n",
    "    'SA-HY': '500 West 41st Street, New York, NY 10018',\n",
    "    'SA-HYMS': '500 West 41st Street, New York, NY 10018',\n",
    "    'SA-LAMS': '787 Lafayette Avenue, Brooklyn, NY 11221',\n",
    "    'SA-MWMS': '439 West 49th Street, New York, NY 10019',\n",
    "    'SA-MYMS': '700 Park Avenue, Floor 3, Brooklyn, NY 11206',\n",
    "    'SA-NW': '268 E. 207th Street, Bronx, NY 10467',\n",
    "    'SA-OZMS': '109-55 128th Street South, Queens, NY 11420',\n",
    "    'SA-PH': '801 Park Place, Floor 4, Brooklyn, NY 11216',\n",
    "    'SA-QV': '92-53 Springfield Boulevard, Queens, NY 11428',\n",
    "    'SA-QV1': '92-53 Springfield Boulevard, Queens, NY 11428',\n",
    "    'SA-QV2': '92-53 Springfield Boulevard, Queens, NY 11428',\n",
    "    'SA-RD': '133-25 Guy R Brewer Blvd, Jamaica, NY, 11434',\n",
    "    'SA-RO': '147-65 249th Street, Rosedale, NY 11422',\n",
    "    'SA-SB': '3000 Avenue X, Brooklyn, NY 11235',\n",
    "    'SA-SJ': '120-27 141st Street, Jamaica, NY 11436',\n",
    "    'SA-SG': '132-55 Ridgedale Street, Floor 3, Queens, NY 11413',\n",
    "    'SA-SGMS': '132-55 Ridgedale St, Queens, NY 11413',\n",
    "    'SA-SGS': '143-10 Springfield Blvd, Springfield Gardens, NY, 11413',\n",
    "    'SA-US': '40 Irving Place, Floor 2, New York, NY 10003',\n",
    "    'SA-UW': '145 West 84th Street, Floor 2, New York, NY 10024',\n",
    "    'SA-WH': '701 Fort Washington Avenue, New York, NY 10040',\n",
    "    'SA-WB': '183 South 3rd Street, Floor 4, Brooklyn, NY 11211',\n",
    "    'SA-FG': '101 Park Ave, Brooklyn, NY 11205',\n",
    "    'Bed-Stuy': '211 Throop Avenue, Floor 3, Brooklyn, NY 11206',\n",
    "    'Bed-Stuy 2': '211 Throop Avenue, Floor 3, Brooklyn, NY 11206',\n",
    "    'Bed-Stuy Middle School': '70 Tompkins Avenue, Floor 2, Brooklyn, NY 11206',\n",
    "    'Bensonhurst': '99 Avenue P, Floor 4, Brooklyn, NY 11204',\n",
    "    'Bergen Beach':'1420 East 68th Street, Floor 3, Brooklyn, NY 11234',\n",
    "    'Bronx 1': '339 Morris Avenue, Floor 2, Bronx, NY 10451',\n",
    "    'Bronx 1 Middle School': '339 Morris Avenue, Floor 2, Bronx, NY 10451',\n",
    "    'Bronx 2': '450 St. Pauls Place, Floor 5, Bronx, NY 10456',\n",
    "    'Bronx 2 Middle School': '270 East 167 Street, Floor 2, Bronx, NY 10456',\n",
    "    'Bronx 3': '1000 Teller Avenue, Floor 4, Bronx, NY 10456',\n",
    "    'Bronx 4': '885 Bolton Avenue, Floor 3, Bronx, NY 10473',\n",
    "    'Bronx 5': '604 East 139th Street, Bronx, NY 10454',\n",
    "    'Bronx 5 Lower': '604 East 139th Street, Bronx, NY 10454',\n",
    "    'Bronx 5 Upper': '604 East 139th Street, Bronx, NY 10454',\n",
    "    'Bronx Middle School': '965 Longwood Avenue, Floor 2, Bronx, NY 10459',\n",
    "    'Bushwick': '139 Menahan Street, Brooklyn, NY 11221',\n",
    "    'Cobble Hill': '284 Baltic Street, Lower Level, Brooklyn, NY 11201',\n",
    "    'Crown Heights': '330 Crown Street, Floor 5, Brooklyn, NY 11225',\n",
    "    'Ditmas Park Middle School': '72 Veronica Place, Floor 3, Brooklyn, NY 11226',\n",
    "    'East Flatbush Middle School': '3109 Newkirk Avenue, Brooklyn, NY, 11226',\n",
    "    'Far Rockaway': '10-45 Nameoke St, Floor 3, Queens, NY 11691',\n",
    "    'Far Rockaway Middle School': '10-45 Nameoke St, Queens, NY 11691',\n",
    "    'Flatbush': '15 Snyder Avenue, Brooklyn, NY 11226',\n",
    "    'Hamilton Heights Middle School': '461 West 131st Street, New York, NY 10027',\n",
    "    'Harlem 1': '34 West 118th Street, Floor 2, New York, NY 10026',\n",
    "    'Harlem 2': '144 East 128th Street, Floor 3, New York, NY 10035',\n",
    "    'Harlem 3': '410 East 100th Street, Floor 4, New York, NY 10029',\n",
    "    'Harlem 4': '240 West 113th Street, Floor 3, New York, NY 10026',\n",
    "    'Harlem 5': '301 West 140th Street, Floor 3, New York, NY 10030',\n",
    "    'Harlem 6': '461 West 131st Street, New York, NY 10027',\n",
    "    'Harlem East': '141 East 111th Street, Floor 3, New York, NY 10029',\n",
    "    'Harlem North Central': '175 West 134th Street, Floor 3, New York, NY 10030',\n",
    "    'Harlem West': '215 West 114th Street, Floor 5, New York, NY 10026',\n",
    "    'Hells Kitchen': '439 West 49th Street, Floor 2, New York NY 10019',\n",
    "    'Hell\\'s Kitchen': '439 West 49th Street, Floor 2, New York NY 10019',\n",
    "    'High School of the Liberal Arts - Harlem': '509 West 129th Street, Floor 3,New York, NY 10027',\n",
    "    'High School of the Liberal Arts-Harlem': '509 West 129th Street, Floor 3,New York, NY 10027',\n",
    "    'High School of the Liberal Arts - Manhattan': '111 East 33rd Street, 4th Floor, New York, NY 10016',\n",
    "    'High School of the Liberal Arts-Manhattan': '111 East 33rd Street, 4th Floor, New York, NY 10016',\n",
    "    'High School of the Liberal Arts - Brooklyn': '70 Tompkins Avenue, 2nd Fl., Brooklyn, NY 11206',\n",
    "    'High School of the Liberal Arts-Brooklyn': '70 Tompkins Avenue, 2nd Fl., Brooklyn, NY 11206',\n",
    "    'Hudson Yards': '500 West 41st Street, New York, NY 10018',\n",
    "    'Hudson Yards Middle School': '500 West 41st Street, New York, NY 10018',\n",
    "    'Lafayette Middle School': '787 Lafayette Avenue, Brooklyn, NY 11221',\n",
    "    'Midtown West Middle School': '439 West 49th Street, New York, NY 10019',\n",
    "    'Myrtle Middle School': '700 Park Avenue, Floor 3, Brooklyn, NY 11206',\n",
    "    'Norwood': '268 E. 207th Street, Bronx, NY 10467',\n",
    "    'Ozone Park Middle School': '109-55 128th Street South, Queens, NY 11420',\n",
    "    'Prospect Heights': '801 Park Place, Floor 4, Brooklyn, NY 11216',\n",
    "    'Queens Village': '92-53 Springfield Boulevard, Queens, NY 11428',\n",
    "    'Rochdale': '133-25 Guy R Brewer Blvd, Jamaica, NY, 11434',\n",
    "    'Rosedale': '147-65 249th Street, Rosedale, NY 11422',\n",
    "    'Sheepshead Bay': '3000 Avenue X, Brooklyn, NY 11235',\n",
    "    'South Jamaica': '120-27 141st Street, Jamaica, NY 11436',\n",
    "    'Springfield Gardens': '132-55 Ridgedale Street, Floor 3, Queens, NY 11413',\n",
    "    'Springfield Gardens Middle School': '132-55 Ridgedale St, Queens, NY 11413',\n",
    "    'Springfield Gardens MS': '132-55 Ridgedale St, Queens, NY 11413',\n",
    "    'Springfield Gardens South': '143-10 Springfield Blvd, Springfield Gardens, NY, 11413',\n",
    "    'Union Square': '40 Irving Place, Floor 2, New York, NY 10003',\n",
    "    'Upper West': '145 West 84th Street, Floor 2, New York, NY 10024',\n",
    "    'Washington Heights': '701 Fort Washington Avenue, New York, NY 10040',\n",
    "    'Williamsburg': '183 South 3rd Street, Floor 4, Brooklyn, NY 11211',\n",
    "    'SA Bed-Stuy': '211 Throop Avenue, Floor 3, Brooklyn, NY 11206',\n",
    "    'SA Bergen Beach': '1420 East 68th Street, Floor 3, Brooklyn, NY 11234',\n",
    "    'SA Bronx 1': '339 Morris Avenue, Floor 2, Bronx, NY 10451',\n",
    "    'SA Bronx 1 Middle School': '339 Morris Avenue, Floor 2, Bronx, NY 10451',\n",
    "    'SA Bronx 2': '450 St. Pauls Place, Floor 5, Bronx, NY 10456',\n",
    "    'SA Bronx 3': '1000 Teller Avenue, Floor 4, Bronx, NY 10456',\n",
    "    'SA Bronx 4': '885 Bolton Avenue, Floor 3, Bronx, NY 10473',\n",
    "    'SA Bronx 5': '604 East 139th Street, Bronx, NY 10454',\n",
    "    'SA Bushwick': '139 Menahan Street, Brooklyn, NY 11221',\n",
    "    'SA Cobble Hill': '284 Baltic Street, Lower Level, Brooklyn, NY 11201',\n",
    "    'SA Crown Heights': '330 Crown Street, Floor 5, Brooklyn, NY 11225',\n",
    "    'SA Ditmas Park Middle School': '72 Veronica Place, Floor 3, Brooklyn, NY 11226',\n",
    "    'SA Far Rockaway': '10-45 Nameoke St, Floor 3, Queens, NY 11691',\n",
    "    'SA Flatbush': '15 Snyder Avenue, Brooklyn, NY 11226',\n",
    "    'SA Hamilton Heights Middle School': '461 West 131st Street, New York, NY 10027',\n",
    "    'SA Harlem 1': '34 West 118th Street, Floor 2, New York, NY 10026',\n",
    "    'SA Harlem 2': '144 East 128th Street, Floor 3, New York, NY 10035',\n",
    "    'SA Harlem 3': '410 East 100th Street, Floor 4, New York, NY 10029',\n",
    "    'SA Harlem 4': '240 West 113th Street, Floor 3, New York, NY 10026',\n",
    "    'SA Harlem 5': '301 West 140th Street, Floor 3, New York, NY 10030',\n",
    "    'SA Harlem East': '141 East 111th Street, Floor 3, New York, NY 10029',\n",
    "    \"SA Hell's Kitchen\": '439 West 49th Street, Floor 2, New York NY 10019',\n",
    "    'SA Hudson Yards': '500 West 41st Street, New York, NY 10018',\n",
    "    'SA Norwood': '268 E. 207th Street, Bronx, NY 10467',\n",
    "    'SA Ozone Park Middle School': '109-55 128th Street South, Queens, NY 11420',\n",
    "    'SA Prospect Heights': '801 Park Place, Floor 4, Brooklyn, NY 11216',\n",
    "    'SA Queens Village': '92-53 Springfield Boulevard, Queens, NY 11428',\n",
    "    'SA Rosedale': '147-65 249th Street, Rosedale, NY 11422',\n",
    "    'SA Sheepshead Bay': '3000 Avenue X, Brooklyn, NY 11235',\n",
    "    'SA South Jamaica': '120-27 141st Street, Jamaica, NY 11436',\n",
    "    'SA Union Square': '40 Irving Place, Floor 2, New York, NY 10003',\n",
    "    'SA Upper West': '145 West 84th Street, Floor 2, New York, NY 10024',\n",
    "    'SA Washington Heights': '701 Fort Washington Avenue, New York, NY 10040',\n",
    "    'SA Williamsburg': '183 South 3rd Street, Floor 4, Brooklyn, NY 11211'\n",
    "    }"
   ]
  },
  {
   "cell_type": "code",
   "execution_count": null,
   "metadata": {},
   "outputs": [],
   "source": [
    "# Driver Setup and getting the Google Maps page to set Arrive By time to 8:00 AM on Monday October 17th \n",
    "driver = webdriver.Chrome()\n",
    "CHROMEDRIVER_PATH = Service(executable_path='chromedriver')\n",
    "options = Options()\n",
    "#options.headless = True\n",
    "options.add_argument('--start-maximized')\n",
    "driver = webdriver.Chrome(service=CHROMEDRIVER_PATH, options=options)\n",
    "driver.get('https://www.google.com/maps/dir///@40.7422956,-73.9891463,13z')\n",
    "driver.implicitly_wait(15)\n",
    "start_box = driver.find_element(By.XPATH, '//*[@id=\"sb_ifc50\"]/input')\n",
    "dest_box = driver.find_element(By.XPATH, '//*[@id=\"sb_ifc51\"]/input')\n",
    "start_box.send_keys('Pennsylvania Station, New York, NY 10119')\n",
    "dest_box.send_keys('95 Pine Street Success Academy')\n",
    "\n",
    "driver.find_element(By.XPATH, '//*[@id=\"directions-searchbox-1\"]/button[1]').click()  # click search button\n",
    "driver.find_element(By.XPATH, '//*[@id=\"QA0Szd\"]/div/div/div[1]/div[2]/div/div[1]/div/div/div[2]/span/div/div/div/div[2]').click()  # click \"Leave Now/Arrive By\" dropdown\n",
    "driver.find_element(By.XPATH, '//*[@id=\":2\"]/div').click()  # click Arrive By\n",
    "\n",
    "time_box = driver.find_element(By.XPATH, '//*[@id=\"QA0Szd\"]/div/div/div[1]/div[2]/div/div[1]/div/div/div[2]/div[1]/span[1]/input')\n",
    "time_box.send_keys(Keys.CONTROL + 'a')\n",
    "time_box.send_keys(Keys.DELETE)\n",
    "time_box.send_keys('8:00 AM')"
   ]
  },
  {
   "cell_type": "markdown",
   "metadata": {},
   "source": [
    "# Loop Start"
   ]
  },
  {
   "cell_type": "markdown",
   "metadata": {},
   "source": [
    "### Load data"
   ]
  },
  {
   "cell_type": "code",
   "execution_count": null,
   "metadata": {},
   "outputs": [],
   "source": [
    "# This is the population of current scholars whose commute times need to be added to the existing file\n",
    "query_file = 'scholar_list.sql'\n",
    "query = open(query_file).read()\n",
    "df_missing_scholars_raw = aws_helper_functions.read_from_redshift(query, local_mode=True)\n",
    "# This is the population of applicants with offers whos commute times need to be added to the existing file\n",
    "query_file = 'offer_list.sql'\n",
    "query = open(query_file).read()\n",
    "df_new_offers_raw = aws_helper_functions.read_from_redshift(query, local_mode=True)\n",
    "# Existing commute times file\n",
    "df_commute_times_raw = pd.read_csv('raw_data_science.raw_scholar_commute_times.csv')\n",
    "print('Missing scholar population: ',df_missing_scholars_raw.shape)\n",
    "print('df_missing_scholars columns: ',df_missing_scholars_raw.columns)\n",
    "print('New offer population: ',df_new_offers_raw.shape)\n",
    "print('df_new_offers columns: ',df_new_offers_raw.columns)\n",
    "print('Existing scholars with commutes: ',df_commute_times_raw.shape)\n",
    "print('df_commute_times columns: ',df_commute_times_raw.columns)"
   ]
  },
  {
   "cell_type": "markdown",
   "metadata": {},
   "source": [
    "### Data prep"
   ]
  },
  {
   "cell_type": "code",
   "execution_count": null,
   "metadata": {},
   "outputs": [],
   "source": [
    "# Checkpoint\n",
    "df_commute_times = df_commute_times_raw\n",
    "df_nmissing_scholars = df_missing_scholars_raw\n",
    "# Removing scholars whose scraping failed last run\n",
    "old_targets = df_commute_times[(df_commute_times['driving_time'].isna()==True) & (df_commute_times['transit_time'].isna()==True) & (df_commute_times['walking_time'].isna()==True)]\n",
    "df_commute_times.drop(old_targets.index, inplace=True)\n",
    "# Prepping existing scholars\n",
    "df_missing_scholars = df_missing_scholars_raw[['sa_scholar_id','school_name','address']]\n",
    "df_all = df_missing_scholars.merge(df_commute_times.drop_duplicates(), on=['sa_scholar_id'], how='left', indicator=True)\n",
    "df_scholar_list = df_all[df_all['_merge']=='left_only']\n",
    "df_scholar_list['street'] = df_scholar_list['address'].str.extract('([^#]+)')\n",
    "df_scholar_list['street'] = df_scholar_list['street'].str.extract('([^,]+)')\n",
    "df_scholar_list['address'] = df_scholar_list['street'] + df_scholar_list['address'].str[-7:]\n",
    "df_scholar_list = df_scholar_list[['sa_scholar_id','school_name','address']]\n",
    "df_scholar_list.drop_duplicates(subset=['sa_scholar_id'],inplace=True)\n",
    "df_scholar_list"
   ]
  },
  {
   "cell_type": "code",
   "execution_count": null,
   "metadata": {},
   "outputs": [],
   "source": [
    "# Check for missing schools\n",
    "for school in df_scholar_list['school_name']:\n",
    "    if school not in schools:\n",
    "        print(school)"
   ]
  },
  {
   "cell_type": "markdown",
   "metadata": {},
   "source": [
    "# Clean up bad addresses by hand\n",
    "This is the step requiring human supervision. The addresses are entered manually and are sometimes incorrect to the point that Google Maps cannot find the address. "
   ]
  },
  {
   "cell_type": "code",
   "execution_count": null,
   "metadata": {},
   "outputs": [],
   "source": [
    "# Cleaning up the bad addresses by hand. Export first, edit the csv\n",
    "df_scholar_list.to_csv('cleanup_step.csv',index=False)"
   ]
  },
  {
   "cell_type": "markdown",
   "metadata": {},
   "source": [
    "# Upload corrected addresses back"
   ]
  },
  {
   "cell_type": "code",
   "execution_count": null,
   "metadata": {},
   "outputs": [],
   "source": [
    "# Now read in and overwrite with the hand-corrected addresses\n",
    "df_scholar_list = pd.read_csv('cleanup_step.csv')"
   ]
  },
  {
   "cell_type": "markdown",
   "metadata": {},
   "source": [
    "# Scraping"
   ]
  },
  {
   "cell_type": "code",
   "execution_count": null,
   "metadata": {},
   "outputs": [],
   "source": [
    "# Scraping loop\n",
    "missing_commute_times = pd.DataFrame(columns = ['sa_scholar_id','Driving','Transit','Walking'])\n",
    "for index, row in df_scholar_list.iterrows():\n",
    "    print(index, row['sa_scholar_id'])\n",
    "    start_box.send_keys(Keys.CONTROL + 'a')\n",
    "    start_box.send_keys(Keys.DELETE)\n",
    "    start_box.send_keys(row['address'])\n",
    "\n",
    "    sleep(0.5)\n",
    "    dest_box.send_keys(Keys.CONTROL + 'a')\n",
    "    dest_box.send_keys(Keys.DELETE)\n",
    "    dest_box.send_keys(schools[row['school_name']])\n",
    "    dest_box.send_keys(Keys.ENTER)\n",
    "    driver.implicitly_wait(1)\n",
    "    sleep(1.5)\n",
    "\n",
    "    try:\n",
    "        old_mode_1 = 'Driving'\n",
    "        old_time_1 = driver.find_element(By.XPATH, '//*[@id=\"omnibox-directions\"]/div/div[2]/div/div/div/div[2]/button/div[1]').text.replace('\\n', '')\n",
    "    except:\n",
    "        old_mode_1 = 'NA'\n",
    "        old_time_1 = 'NA'\n",
    "    try:\n",
    "        old_mode_2 = 'Transit'\n",
    "        old_time_2 = driver.find_element(By.XPATH, '//*[@id=\"omnibox-directions\"]/div/div[2]/div/div/div/div[3]/button/div[1]').text.replace('\\n', '')\n",
    "    except:\n",
    "        old_mode_2 = 'NA'\n",
    "        old_time_2 = 'NA'\n",
    "    try:\n",
    "        old_mode_3 = 'Walking'\n",
    "        old_time_3 = driver.find_element(By.XPATH, '//*[@id=\"omnibox-directions\"]/div/div[2]/div/div/div/div[4]/button/div[1]').text.replace('\\n', '')\n",
    "    except:\n",
    "        old_mode_3 = 'NA'\n",
    "        old_time_3 = 'NA'\n",
    "    missing_commute_times.loc[len(missing_commute_times)] = [row['sa_scholar_id'],old_time_1,old_time_2,old_time_3]"
   ]
  },
  {
   "cell_type": "markdown",
   "metadata": {},
   "source": [
    "# Cleaning up the results to align with the existing data"
   ]
  },
  {
   "cell_type": "code",
   "execution_count": null,
   "metadata": {},
   "outputs": [],
   "source": [
    "# I hate loops. I'm so sorry. -Kenny\n",
    "cleaned = pd.DataFrame(missing_commute_times)\n",
    "cleaned['driving_time'] = (pd.to_numeric(np.where(cleaned['Driving'].str.contains('hr'),cleaned['Driving'].str.split(' ').str[0],0))*3600)+(pd.to_numeric(np.where(cleaned['Driving'].str.contains('hr'),cleaned['Driving'].str.split(' ').str[2],0))*60)\n",
    "cleaned['driving_time'] = (pd.to_numeric(np.where(cleaned['Driving'].str.contains('hr'),cleaned['driving_time'],pd.to_numeric(cleaned['Driving'].str.split(' ').str[0])*60)))\n",
    "cleaned['transit_time'] = (pd.to_numeric(np.where(cleaned['Transit'].str.contains('hr'),cleaned['Transit'].str.split(' ').str[0],0))*3600)+(pd.to_numeric(np.where(cleaned['Transit'].str.contains('hr'),cleaned['Transit'].str.split(' ').str[2],0))*60)\n",
    "cleaned['transit_time'] = (pd.to_numeric(np.where(cleaned['Transit'].str.contains('hr'),cleaned['transit_time'],pd.to_numeric(cleaned['Transit'].str.split(' ').str[0])*60)))\n",
    "cleaned['walking_time'] = (pd.to_numeric(np.where(cleaned['Walking'].str.contains('hr'),cleaned['Walking'].str.split(' ').str[0],0))*3600)+(pd.to_numeric(np.where(cleaned['Walking'].str.contains('hr'),cleaned['Walking'].str.split(' ').str[2],0))*60)\n",
    "cleaned['walking_time'] = (pd.to_numeric(np.where(cleaned['Walking'].str.contains('hr'),cleaned['walking_time'],pd.to_numeric(cleaned['Walking'].str.split(' ').str[0])*60)))\n",
    "cleaned = cleaned.drop(['Driving','Transit','Walking'],axis=1)\n",
    "cleaned['last_run_date'] = date.today()\n",
    "cleaned"
   ]
  },
  {
   "cell_type": "code",
   "execution_count": null,
   "metadata": {},
   "outputs": [],
   "source": [
    "# Cleanup incase it merges an extra column because I'm careless with my code. -Kenny\n",
    "df_commute_times['last_run_date'] = df_commute_times['last_run_date'].combine_first(df_commute_times['last_run_date_x'])\n",
    "df_commute_times = df_commute_times.drop(['last_run_date_x'],axis=1)\n",
    "df_commute_times"
   ]
  },
  {
   "cell_type": "markdown",
   "metadata": {},
   "source": [
    "### Final merge"
   ]
  },
  {
   "cell_type": "code",
   "execution_count": null,
   "metadata": {},
   "outputs": [],
   "source": [
    "\n",
    "prod_scholar_commute_times = df_commute_times.merge(cleaned,how='outer',on=['sa_scholar_id','driving_time','transit_time','walking_time','last_run_date'])\n",
    "prod_scholar_commute_times"
   ]
  },
  {
   "cell_type": "code",
   "execution_count": null,
   "metadata": {},
   "outputs": [],
   "source": [
    "prod_scholar_commute_times.to_csv('raw_data_science.raw_scholar_commute_times.csv',index=False)"
   ]
  },
  {
   "cell_type": "markdown",
   "metadata": {},
   "source": [
    "# Loop End"
   ]
  }
 ],
 "metadata": {
  "kernelspec": {
   "display_name": "Python 3",
   "language": "python",
   "name": "python3"
  },
  "language_info": {
   "codemirror_mode": {
    "name": "ipython",
    "version": 3
   },
   "file_extension": ".py",
   "mimetype": "text/x-python",
   "name": "python",
   "nbconvert_exporter": "python",
   "pygments_lexer": "ipython3",
   "version": "3.11.3"
  },
  "orig_nbformat": 4
 },
 "nbformat": 4,
 "nbformat_minor": 2
}
